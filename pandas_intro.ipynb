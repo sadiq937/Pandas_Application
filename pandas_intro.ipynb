{
  "cells": [
    {
      "cell_type": "markdown",
      "metadata": {
        "id": "view-in-github",
        "colab_type": "text"
      },
      "source": [
        "<a href=\"https://colab.research.google.com/github/sadiq937/Pandas_Application/blob/main/pandas_intro.ipynb\" target=\"_parent\"><img src=\"https://colab.research.google.com/assets/colab-badge.svg\" alt=\"Open In Colab\"/></a>"
      ]
    },
    {
      "cell_type": "markdown",
      "source": [
        "# **PANDAS INTRODUCTION**"
      ],
      "metadata": {
        "id": "Nc_0QogHgnP8"
      }
    },
    {
      "cell_type": "code",
      "source": [
        "!pip install pandas"
      ],
      "metadata": {
        "collapsed": true,
        "id": "GTQrQqKGg5tc",
        "outputId": "6985760e-fa45-4c30-a05a-48d7dd09a28e",
        "colab": {
          "base_uri": "https://localhost:8080/"
        }
      },
      "execution_count": 1,
      "outputs": [
        {
          "output_type": "stream",
          "name": "stdout",
          "text": [
            "Requirement already satisfied: pandas in /usr/local/lib/python3.11/dist-packages (2.2.2)\n",
            "Requirement already satisfied: numpy>=1.23.2 in /usr/local/lib/python3.11/dist-packages (from pandas) (1.26.4)\n",
            "Requirement already satisfied: python-dateutil>=2.8.2 in /usr/local/lib/python3.11/dist-packages (from pandas) (2.8.2)\n",
            "Requirement already satisfied: pytz>=2020.1 in /usr/local/lib/python3.11/dist-packages (from pandas) (2025.1)\n",
            "Requirement already satisfied: tzdata>=2022.7 in /usr/local/lib/python3.11/dist-packages (from pandas) (2025.1)\n",
            "Requirement already satisfied: six>=1.5 in /usr/local/lib/python3.11/dist-packages (from python-dateutil>=2.8.2->pandas) (1.17.0)\n"
          ]
        }
      ]
    },
    {
      "cell_type": "markdown",
      "source": [
        "## Wes Mckinney\n",
        "\n",
        "\n",
        "*  Pandas was created by Wes Mckinney in 2008.\n",
        "*  First version was released in 2009.\n",
        "*  Pandas means Panel Data or Python Data Analysis.\n",
        "*  The source code for Pandas is located at this github repository https://github.com/pandas-dev/pandas\n",
        "\n",
        "\n",
        "\n",
        "\n",
        "    "
      ],
      "metadata": {
        "id": "iesDPxrTiDXP"
      }
    },
    {
      "cell_type": "code",
      "source": [
        "import pandas as pd # pd is alias"
      ],
      "metadata": {
        "id": "0vukdD9klhsU"
      },
      "execution_count": 3,
      "outputs": []
    },
    {
      "cell_type": "markdown",
      "source": [
        "### Series"
      ],
      "metadata": {
        "id": "nI8SbjTNq8tt"
      }
    },
    {
      "cell_type": "code",
      "source": [
        "# Series data is like column in a Pandas\n",
        "# It is a one dimensional array holding any datatypes\n",
        "x = [1, -54, \"s\", 586]\n",
        "y = pd.Series(x)    # S in Series should be in Capital\n",
        "print(y)\n",
        "y = pd.Series(x, index = [\"a\", \"b\", \"c\", \"d\"]) # To give index\n",
        "print(y)\n",
        "print(y[1]) # This given below warning\n",
        "print(y.iloc[1])  # Correct way to access by position"
      ],
      "metadata": {
        "collapsed": true,
        "id": "7YEbGt8mlsh6",
        "outputId": "1bc85ecf-fed5-450e-9fa2-fdbcbb92fd0e",
        "colab": {
          "base_uri": "https://localhost:8080/"
        }
      },
      "execution_count": 11,
      "outputs": [
        {
          "output_type": "stream",
          "name": "stdout",
          "text": [
            "0      1\n",
            "1    -54\n",
            "2      s\n",
            "3    586\n",
            "dtype: object\n",
            "a      1\n",
            "b    -54\n",
            "c      s\n",
            "d    586\n",
            "dtype: object\n",
            "-54\n",
            "-54\n"
          ]
        },
        {
          "output_type": "stream",
          "name": "stderr",
          "text": [
            "<ipython-input-11-8b79fe2f9a6e>:8: FutureWarning: Series.__getitem__ treating keys as positions is deprecated. In a future version, integer keys will always be treated as labels (consistent with DataFrame behavior). To access a value by position, use `ser.iloc[pos]`\n",
            "  print(y[1]) # This given below warning\n"
          ]
        }
      ]
    },
    {
      "cell_type": "markdown",
      "source": [],
      "metadata": {
        "id": "UeZCZXjjnWup"
      }
    },
    {
      "cell_type": "code",
      "source": [
        "x = { \"car\": [\"diesel\", \"petrol\", \"EV\"], \"brand\": [\"Toyoto\", \"Ford\", \"tesla\"], \"price\": [\"35k\", \"30k\", \"45k\"]}\n",
        "y = pd.Series(x)\n",
        "y"
      ],
      "metadata": {
        "id": "BZMA0qtyopEL",
        "outputId": "1ca4556a-c0c9-46a1-85cc-4af742232889",
        "colab": {
          "base_uri": "https://localhost:8080/",
          "height": 178
        }
      },
      "execution_count": 12,
      "outputs": [
        {
          "output_type": "execute_result",
          "data": {
            "text/plain": [
              "car       [diesel, petrol, EV]\n",
              "brand    [Toyoto, Ford, tesla]\n",
              "price          [35k, 30k, 45k]\n",
              "dtype: object"
            ],
            "text/html": [
              "<div>\n",
              "<style scoped>\n",
              "    .dataframe tbody tr th:only-of-type {\n",
              "        vertical-align: middle;\n",
              "    }\n",
              "\n",
              "    .dataframe tbody tr th {\n",
              "        vertical-align: top;\n",
              "    }\n",
              "\n",
              "    .dataframe thead th {\n",
              "        text-align: right;\n",
              "    }\n",
              "</style>\n",
              "<table border=\"1\" class=\"dataframe\">\n",
              "  <thead>\n",
              "    <tr style=\"text-align: right;\">\n",
              "      <th></th>\n",
              "      <th>0</th>\n",
              "    </tr>\n",
              "  </thead>\n",
              "  <tbody>\n",
              "    <tr>\n",
              "      <th>car</th>\n",
              "      <td>[diesel, petrol, EV]</td>\n",
              "    </tr>\n",
              "    <tr>\n",
              "      <th>brand</th>\n",
              "      <td>[Toyoto, Ford, tesla]</td>\n",
              "    </tr>\n",
              "    <tr>\n",
              "      <th>price</th>\n",
              "      <td>[35k, 30k, 45k]</td>\n",
              "    </tr>\n",
              "  </tbody>\n",
              "</table>\n",
              "</div><br><label><b>dtype:</b> object</label>"
            ]
          },
          "metadata": {},
          "execution_count": 12
        }
      ]
    },
    {
      "cell_type": "markdown",
      "source": [
        "### DataFrame\n",
        "*   Pandas DataFrame is a 2 Dimensional Data structure similar to table with rows and columns.\n",
        "\n"
      ],
      "metadata": {
        "id": "iWdCiznOqsZZ"
      }
    },
    {
      "cell_type": "code",
      "source": [
        "x = { \"car\": [\"diesel\", \"petrol\", \"EV\"], \"brand\": [\"Toyoto\", \"Ford\", \"tesla\"], \"price\": [\"35k\", \"30k\", \"45k\"]}\n",
        "y = pd.DataFrame(x, index = [\"frist car\",\"second car\",\"third car\"]) #D and F capital\n",
        "print(y)\n",
        "print(y.iloc[2]) # to print specific row data with index we use iloc , to acess with name we use simple loc[car]\n",
        "y.loc[\"third car\", \"car\"] #EV is returned as we used loc attribute and accessed data with row_name, cloumn_name"
      ],
      "metadata": {
        "id": "c_mM2BE4pMyR",
        "outputId": "e351c52c-aaf3-455e-d5bb-74c5919a4bbd",
        "colab": {
          "base_uri": "https://localhost:8080/",
          "height": 178
        }
      },
      "execution_count": 33,
      "outputs": [
        {
          "output_type": "stream",
          "name": "stdout",
          "text": [
            "               car   brand price\n",
            "frist car   diesel  Toyoto   35k\n",
            "second car  petrol    Ford   30k\n",
            "third car       EV   tesla   45k\n",
            "car         EV\n",
            "brand    tesla\n",
            "price      45k\n",
            "Name: third car, dtype: object\n"
          ]
        },
        {
          "output_type": "execute_result",
          "data": {
            "text/plain": [
              "'EV'"
            ],
            "application/vnd.google.colaboratory.intrinsic+json": {
              "type": "string"
            }
          },
          "metadata": {},
          "execution_count": 33
        }
      ]
    },
    {
      "cell_type": "markdown",
      "source": [
        "### Loading Data files"
      ],
      "metadata": {
        "id": "UocbnQQr3INK"
      }
    },
    {
      "cell_type": "code",
      "source": [
        "# Loading csv file into DataFrame\n",
        "data_df = pd.read_csv(\"https://raw.githubusercontent.com/sadiq937/Pandas_Application/refs/heads/main/student.csv\")\n",
        "print(data_df.to_string()) # to display entire file\n",
        "print(pd.options.display.max_rows) # u can also set no of rows to be displayed"
      ],
      "metadata": {
        "id": "uxkS2iWOpYMr",
        "outputId": "8ebbf2ea-b48c-451a-8230-664a12e4a6d9",
        "colab": {
          "base_uri": "https://localhost:8080/"
        }
      },
      "execution_count": 38,
      "outputs": [
        {
          "output_type": "stream",
          "name": "stdout",
          "text": [
            "    id         name  class  mark  gender\n",
            "0    1     John Deo   Four    75  female\n",
            "1    2     Max Ruin  Three    85    male\n",
            "2    3       Arnold  Three    55    male\n",
            "3    4   Krish Star   Four    60  female\n",
            "4    5    John Mike   Four    60  female\n",
            "5    6    Alex John   Four    55    male\n",
            "6    7  My John Rob  Fifth    78    male\n",
            "7    8       Asruid   Five    85    male\n",
            "8    9      Tes Qry    Six    78    male\n",
            "9   10     Big John   Four    55  female\n",
            "10  11       Ronald    Six    89  female\n",
            "11  12        Recky    Six    94  female\n",
            "12  13          Kty  Seven    88  female\n",
            "13  14         Bigy  Seven    88  female\n",
            "14  15     Tade Row   Four    88    male\n",
            "15  16        Gimmy   Four    88    male\n",
            "16  17        Tumyu    Six    54    male\n",
            "17  18        Honny   Five    75    male\n",
            "18  19        Tinny   Nine    18    male\n",
            "19  20       Jackly   Nine    65  female\n",
            "20  21   Babby John   Four    69  female\n",
            "21  22       Reggid  Seven    55  female\n",
            "22  23        Herod  Eight    79    male\n",
            "23  24    Tiddy Now  Seven    78    male\n",
            "24  25     Giff Tow  Seven    88    male\n",
            "25  26       Crelea  Seven    79    male\n",
            "26  27     Big Nose  Three    81  female\n",
            "27  28    Rojj Base  Seven    86  female\n",
            "28  29  Tess Played  Seven    55    male\n",
            "29  30    Reppy Red    Six    79  female\n",
            "30  31  Marry Toeey   Four    88    male\n",
            "31  32    Binn Rott  Seven    90  female\n",
            "32  33    Kenn Rein    Six    96  female\n",
            "33  34     Gain Toe  Seven    69    male\n",
            "34  35   Rows Noump    Six    88  female\n",
            "60\n"
          ]
        }
      ]
    },
    {
      "cell_type": "code",
      "source": [
        "pd.options.display.max_rows = 25 # to set max no of rows to be displayed as 25, by default it would be 60"
      ],
      "metadata": {
        "id": "RWWTUujD0G0E"
      },
      "execution_count": 41,
      "outputs": []
    },
    {
      "cell_type": "code",
      "source": [
        "# Loading json file into DataFrame\n",
        "sample_df = pd.read_json(\"https://raw.githubusercontent.com/sadiq937/Pandas_Application/refs/heads/main/sample.json\")\n",
        "print(sample_df)"
      ],
      "metadata": {
        "id": "Jf6cqjEO02ah",
        "outputId": "9fcc616c-4d62-49cf-e675-be1412f7c7f9",
        "colab": {
          "base_uri": "https://localhost:8080/"
        }
      },
      "execution_count": 42,
      "outputs": [
        {
          "output_type": "stream",
          "name": "stdout",
          "text": [
            "  student_id              name  age             major  \\\n",
            "0       S001       Alice Smith   20  Computer Science   \n",
            "1       S002       Bob Johnson   22       Engineering   \n",
            "2       S003  Charlie Williams   21           Biology   \n",
            "\n",
            "                                       grades  \n",
            "0  {'math': 90, 'english': 85, 'science': 92}  \n",
            "1  {'math': 78, 'english': 88, 'physics': 95}  \n",
            "2  {'math': 85, 'english': 92, 'biology': 88}  \n"
          ]
        }
      ]
    },
    {
      "cell_type": "code",
      "source": [],
      "metadata": {
        "id": "K53hD1ns254u"
      },
      "execution_count": null,
      "outputs": []
    }
  ],
  "metadata": {
    "kernelspec": {
      "display_name": "Python 3",
      "language": "python",
      "name": "python3"
    },
    "language_info": {
      "codemirror_mode": {
        "name": "ipython",
        "version": 3
      },
      "file_extension": ".py",
      "mimetype": "text/x-python",
      "name": "python",
      "nbconvert_exporter": "python",
      "pygments_lexer": "ipython3",
      "version": "3.12.1"
    },
    "colab": {
      "provenance": [],
      "toc_visible": true,
      "include_colab_link": true
    }
  },
  "nbformat": 4,
  "nbformat_minor": 0
}